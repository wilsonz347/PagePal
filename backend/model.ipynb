{
 "cells": [
  {
   "cell_type": "code",
   "id": "initial_id",
   "metadata": {
    "collapsed": true,
    "ExecuteTime": {
     "end_time": "2024-11-14T00:14:57.592090Z",
     "start_time": "2024-11-14T00:14:57.584752Z"
    }
   },
   "source": [
    "import pandas as pd\n",
    "from sklearn.metrics.pairwise import cosine_similarity\n",
    "from sklearn.feature_extraction.text import TfidfVectorizer\n",
    "import pickle\n",
    "import random"
   ],
   "outputs": [],
   "execution_count": 56
  },
  {
   "metadata": {
    "ExecuteTime": {
     "end_time": "2024-11-14T00:14:58.978551Z",
     "start_time": "2024-11-14T00:14:57.634586Z"
    }
   },
   "cell_type": "code",
   "source": [
    "df = pd.read_csv(\"Books.csv\")\n",
    "df.head()"
   ],
   "id": "f100a0b14b7bef2f",
   "outputs": [
    {
     "name": "stderr",
     "output_type": "stream",
     "text": [
      "C:\\Users\\wilso\\AppData\\Local\\Temp\\ipykernel_25556\\2897801158.py:1: DtypeWarning: Columns (3) have mixed types. Specify dtype option on import or set low_memory=False.\n",
      "  df = pd.read_csv(\"Books.csv\")\n"
     ]
    },
    {
     "data": {
      "text/plain": [
       "         ISBN                                         Book-Title  \\\n",
       "0  0195153448                                Classical Mythology   \n",
       "1  0002005018                                       Clara Callan   \n",
       "2  0060973129                               Decision in Normandy   \n",
       "3  0374157065  Flu: The Story of the Great Influenza Pandemic...   \n",
       "4  0393045218                             The Mummies of Urumchi   \n",
       "\n",
       "            Book-Author Year-Of-Publication                   Publisher  \\\n",
       "0    Mark P. O. Morford                2002     Oxford University Press   \n",
       "1  Richard Bruce Wright                2001       HarperFlamingo Canada   \n",
       "2          Carlo D'Este                1991             HarperPerennial   \n",
       "3      Gina Bari Kolata                1999        Farrar Straus Giroux   \n",
       "4       E. J. W. Barber                1999  W. W. Norton &amp; Company   \n",
       "\n",
       "                                         Image-URL-S  \\\n",
       "0  http://images.amazon.com/images/P/0195153448.0...   \n",
       "1  http://images.amazon.com/images/P/0002005018.0...   \n",
       "2  http://images.amazon.com/images/P/0060973129.0...   \n",
       "3  http://images.amazon.com/images/P/0374157065.0...   \n",
       "4  http://images.amazon.com/images/P/0393045218.0...   \n",
       "\n",
       "                                         Image-URL-M  \\\n",
       "0  http://images.amazon.com/images/P/0195153448.0...   \n",
       "1  http://images.amazon.com/images/P/0002005018.0...   \n",
       "2  http://images.amazon.com/images/P/0060973129.0...   \n",
       "3  http://images.amazon.com/images/P/0374157065.0...   \n",
       "4  http://images.amazon.com/images/P/0393045218.0...   \n",
       "\n",
       "                                         Image-URL-L  \n",
       "0  http://images.amazon.com/images/P/0195153448.0...  \n",
       "1  http://images.amazon.com/images/P/0002005018.0...  \n",
       "2  http://images.amazon.com/images/P/0060973129.0...  \n",
       "3  http://images.amazon.com/images/P/0374157065.0...  \n",
       "4  http://images.amazon.com/images/P/0393045218.0...  "
      ],
      "text/html": [
       "<div>\n",
       "<style scoped>\n",
       "    .dataframe tbody tr th:only-of-type {\n",
       "        vertical-align: middle;\n",
       "    }\n",
       "\n",
       "    .dataframe tbody tr th {\n",
       "        vertical-align: top;\n",
       "    }\n",
       "\n",
       "    .dataframe thead th {\n",
       "        text-align: right;\n",
       "    }\n",
       "</style>\n",
       "<table border=\"1\" class=\"dataframe\">\n",
       "  <thead>\n",
       "    <tr style=\"text-align: right;\">\n",
       "      <th></th>\n",
       "      <th>ISBN</th>\n",
       "      <th>Book-Title</th>\n",
       "      <th>Book-Author</th>\n",
       "      <th>Year-Of-Publication</th>\n",
       "      <th>Publisher</th>\n",
       "      <th>Image-URL-S</th>\n",
       "      <th>Image-URL-M</th>\n",
       "      <th>Image-URL-L</th>\n",
       "    </tr>\n",
       "  </thead>\n",
       "  <tbody>\n",
       "    <tr>\n",
       "      <th>0</th>\n",
       "      <td>0195153448</td>\n",
       "      <td>Classical Mythology</td>\n",
       "      <td>Mark P. O. Morford</td>\n",
       "      <td>2002</td>\n",
       "      <td>Oxford University Press</td>\n",
       "      <td>http://images.amazon.com/images/P/0195153448.0...</td>\n",
       "      <td>http://images.amazon.com/images/P/0195153448.0...</td>\n",
       "      <td>http://images.amazon.com/images/P/0195153448.0...</td>\n",
       "    </tr>\n",
       "    <tr>\n",
       "      <th>1</th>\n",
       "      <td>0002005018</td>\n",
       "      <td>Clara Callan</td>\n",
       "      <td>Richard Bruce Wright</td>\n",
       "      <td>2001</td>\n",
       "      <td>HarperFlamingo Canada</td>\n",
       "      <td>http://images.amazon.com/images/P/0002005018.0...</td>\n",
       "      <td>http://images.amazon.com/images/P/0002005018.0...</td>\n",
       "      <td>http://images.amazon.com/images/P/0002005018.0...</td>\n",
       "    </tr>\n",
       "    <tr>\n",
       "      <th>2</th>\n",
       "      <td>0060973129</td>\n",
       "      <td>Decision in Normandy</td>\n",
       "      <td>Carlo D'Este</td>\n",
       "      <td>1991</td>\n",
       "      <td>HarperPerennial</td>\n",
       "      <td>http://images.amazon.com/images/P/0060973129.0...</td>\n",
       "      <td>http://images.amazon.com/images/P/0060973129.0...</td>\n",
       "      <td>http://images.amazon.com/images/P/0060973129.0...</td>\n",
       "    </tr>\n",
       "    <tr>\n",
       "      <th>3</th>\n",
       "      <td>0374157065</td>\n",
       "      <td>Flu: The Story of the Great Influenza Pandemic...</td>\n",
       "      <td>Gina Bari Kolata</td>\n",
       "      <td>1999</td>\n",
       "      <td>Farrar Straus Giroux</td>\n",
       "      <td>http://images.amazon.com/images/P/0374157065.0...</td>\n",
       "      <td>http://images.amazon.com/images/P/0374157065.0...</td>\n",
       "      <td>http://images.amazon.com/images/P/0374157065.0...</td>\n",
       "    </tr>\n",
       "    <tr>\n",
       "      <th>4</th>\n",
       "      <td>0393045218</td>\n",
       "      <td>The Mummies of Urumchi</td>\n",
       "      <td>E. J. W. Barber</td>\n",
       "      <td>1999</td>\n",
       "      <td>W. W. Norton &amp;amp; Company</td>\n",
       "      <td>http://images.amazon.com/images/P/0393045218.0...</td>\n",
       "      <td>http://images.amazon.com/images/P/0393045218.0...</td>\n",
       "      <td>http://images.amazon.com/images/P/0393045218.0...</td>\n",
       "    </tr>\n",
       "  </tbody>\n",
       "</table>\n",
       "</div>"
      ]
     },
     "execution_count": 57,
     "metadata": {},
     "output_type": "execute_result"
    }
   ],
   "execution_count": 57
  },
  {
   "metadata": {
    "ExecuteTime": {
     "end_time": "2024-11-14T00:14:59.194148Z",
     "start_time": "2024-11-14T00:14:59.101172Z"
    }
   },
   "cell_type": "code",
   "source": "df.info()",
   "id": "8fce5e32a8ab025f",
   "outputs": [
    {
     "name": "stdout",
     "output_type": "stream",
     "text": [
      "<class 'pandas.core.frame.DataFrame'>\n",
      "RangeIndex: 271360 entries, 0 to 271359\n",
      "Data columns (total 8 columns):\n",
      " #   Column               Non-Null Count   Dtype \n",
      "---  ------               --------------   ----- \n",
      " 0   ISBN                 271360 non-null  object\n",
      " 1   Book-Title           271360 non-null  object\n",
      " 2   Book-Author          271358 non-null  object\n",
      " 3   Year-Of-Publication  271360 non-null  object\n",
      " 4   Publisher            271358 non-null  object\n",
      " 5   Image-URL-S          271360 non-null  object\n",
      " 6   Image-URL-M          271360 non-null  object\n",
      " 7   Image-URL-L          271357 non-null  object\n",
      "dtypes: object(8)\n",
      "memory usage: 16.6+ MB\n"
     ]
    }
   ],
   "execution_count": 58
  },
  {
   "metadata": {
    "ExecuteTime": {
     "end_time": "2024-11-14T00:14:59.319914Z",
     "start_time": "2024-11-14T00:14:59.243899Z"
    }
   },
   "cell_type": "code",
   "source": [
    "# Check for missing values in the dataframe\n",
    "print(df.isnull().sum())"
   ],
   "id": "51b3edc33f88dcfe",
   "outputs": [
    {
     "name": "stdout",
     "output_type": "stream",
     "text": [
      "ISBN                   0\n",
      "Book-Title             0\n",
      "Book-Author            2\n",
      "Year-Of-Publication    0\n",
      "Publisher              2\n",
      "Image-URL-S            0\n",
      "Image-URL-M            0\n",
      "Image-URL-L            3\n",
      "dtype: int64\n"
     ]
    }
   ],
   "execution_count": 59
  },
  {
   "metadata": {
    "ExecuteTime": {
     "end_time": "2024-11-14T00:15:00.042993Z",
     "start_time": "2024-11-14T00:14:59.336986Z"
    }
   },
   "cell_type": "code",
   "source": [
    "# Remove null and duplicate values\n",
    "df.dropna(inplace=True)\n",
    "df.drop_duplicates(inplace=True)"
   ],
   "id": "f954523aa9f3606b",
   "outputs": [],
   "execution_count": 60
  },
  {
   "metadata": {
    "ExecuteTime": {
     "end_time": "2024-11-14T00:15:00.108501Z",
     "start_time": "2024-11-14T00:15:00.075573Z"
    }
   },
   "cell_type": "code",
   "source": [
    "# Check data types for column 3\n",
    "print(df[\"Year-Of-Publication\"].apply(type).value_counts())"
   ],
   "id": "712d79dfcdc9ce75",
   "outputs": [
    {
     "name": "stdout",
     "output_type": "stream",
     "text": [
      "Year-Of-Publication\n",
      "<class 'int'>    205820\n",
      "<class 'str'>     65533\n",
      "Name: count, dtype: int64\n"
     ]
    }
   ],
   "execution_count": 61
  },
  {
   "metadata": {
    "ExecuteTime": {
     "end_time": "2024-11-14T00:15:00.169486Z",
     "start_time": "2024-11-14T00:15:00.119529Z"
    }
   },
   "cell_type": "code",
   "source": [
    "string_years = df[df[\"Year-Of-Publication\"].apply(lambda x: isinstance(x, str))]\n",
    "\n",
    "# Display only the 'Year-Of-Publication' column for string values\n",
    "print(string_years[\"Year-Of-Publication\"])"
   ],
   "id": "daa8bae1b7615a81",
   "outputs": [
    {
     "name": "stdout",
     "output_type": "stream",
     "text": [
      "196608    2000\n",
      "196609    1995\n",
      "196610    1999\n",
      "196611    2004\n",
      "196612    2003\n",
      "          ... \n",
      "262139    1986\n",
      "262140    1987\n",
      "262141    1994\n",
      "262142    1993\n",
      "262143    1991\n",
      "Name: Year-Of-Publication, Length: 65533, dtype: object\n"
     ]
    }
   ],
   "execution_count": 62
  },
  {
   "metadata": {
    "ExecuteTime": {
     "end_time": "2024-11-14T00:15:00.271920Z",
     "start_time": "2024-11-14T00:15:00.253864Z"
    }
   },
   "cell_type": "code",
   "source": [
    "# Convert 'Year-Of-Publication' from string to int\n",
    "df['Year-Of-Publication'] = df['Year-Of-Publication'].astype(int)"
   ],
   "id": "64b944a903bc5e87",
   "outputs": [],
   "execution_count": 63
  },
  {
   "metadata": {
    "ExecuteTime": {
     "end_time": "2024-11-14T00:15:00.347603Z",
     "start_time": "2024-11-14T00:15:00.307763Z"
    }
   },
   "cell_type": "code",
   "source": "print(df[\"Year-Of-Publication\"].apply(type).value_counts())",
   "id": "187e601c9d52729a",
   "outputs": [
    {
     "name": "stdout",
     "output_type": "stream",
     "text": [
      "Year-Of-Publication\n",
      "<class 'int'>    271353\n",
      "Name: count, dtype: int64\n"
     ]
    }
   ],
   "execution_count": 64
  },
  {
   "metadata": {
    "ExecuteTime": {
     "end_time": "2024-11-14T00:15:00.393523Z",
     "start_time": "2024-11-14T00:15:00.368422Z"
    }
   },
   "cell_type": "code",
   "source": "df = df.drop(['ISBN', 'Image-URL-M', 'Image-URL-L', 'Publisher'], axis=1)",
   "id": "734c306a957c6097",
   "outputs": [],
   "execution_count": 65
  },
  {
   "metadata": {
    "ExecuteTime": {
     "end_time": "2024-11-14T00:15:00.535607Z",
     "start_time": "2024-11-14T00:15:00.478346Z"
    }
   },
   "cell_type": "code",
   "source": "df.info()",
   "id": "31775d351347f182",
   "outputs": [
    {
     "name": "stdout",
     "output_type": "stream",
     "text": [
      "<class 'pandas.core.frame.DataFrame'>\n",
      "Index: 271353 entries, 0 to 271359\n",
      "Data columns (total 4 columns):\n",
      " #   Column               Non-Null Count   Dtype \n",
      "---  ------               --------------   ----- \n",
      " 0   Book-Title           271353 non-null  object\n",
      " 1   Book-Author          271353 non-null  object\n",
      " 2   Year-Of-Publication  271353 non-null  int64 \n",
      " 3   Image-URL-S          271353 non-null  object\n",
      "dtypes: int64(1), object(3)\n",
      "memory usage: 10.4+ MB\n"
     ]
    }
   ],
   "execution_count": 66
  },
  {
   "metadata": {
    "ExecuteTime": {
     "end_time": "2024-11-14T00:15:00.780171Z",
     "start_time": "2024-11-14T00:15:00.676219Z"
    }
   },
   "cell_type": "code",
   "source": [
    "# Clean the titles to lowercase and remove duplicates\n",
    "def clean_and_remove_duplicates(df):\n",
    "    # Lowercase the titles in the dataset\n",
    "    df['Cleaned-Title'] = df['Book-Title'].str.lower()\n",
    "    \n",
    "    # Remove duplicate rows based on the cleaned title\n",
    "    df = df.drop_duplicates(subset='Cleaned-Title')\n",
    "    \n",
    "    return df\n",
    "\n",
    "# Apply this function to clean the dataset\n",
    "df = clean_and_remove_duplicates(df)"
   ],
   "id": "4a41ecb7ab11dcaf",
   "outputs": [],
   "execution_count": 67
  },
  {
   "metadata": {
    "ExecuteTime": {
     "end_time": "2024-11-14T00:15:00.806958Z",
     "start_time": "2024-11-14T00:15:00.802733Z"
    }
   },
   "cell_type": "code",
   "source": [
    "def clean_title(title):\n",
    "    # Lowercase and remove non-alphanumeric characters (keeping spaces)\n",
    "    title = title.lower()\n",
    "    title = ''.join(e for e in title if e.isalnum() or e.isspace())\n",
    "    return title"
   ],
   "id": "d9c6aac0c74d9452",
   "outputs": [],
   "execution_count": 68
  },
  {
   "metadata": {
    "ExecuteTime": {
     "end_time": "2024-11-14T00:15:00.879830Z",
     "start_time": "2024-11-14T00:15:00.825967Z"
    }
   },
   "cell_type": "code",
   "source": [
    "# Combine Book-Title and Book-Author\n",
    "df['Combined'] = df['Book-Title'] + ' ' + df['Book-Author']"
   ],
   "id": "274f8a42efae48ca",
   "outputs": [],
   "execution_count": 69
  },
  {
   "metadata": {
    "ExecuteTime": {
     "end_time": "2024-11-14T00:15:01.245682Z",
     "start_time": "2024-11-14T00:15:00.896214Z"
    }
   },
   "cell_type": "code",
   "source": [
    "def default_case(df):\n",
    "    df['Combined'] = df['Combined'].str.lower()\n",
    "    # Remove non-alphanumeric characters (keeping spaces)\n",
    "    df['Combined'] = df['Combined'].str.replace(r'[^a-z0-9\\s]', '', regex=True)\n",
    "    return df\n",
    "\n",
    "df = default_case(df)\n",
    "df.head()"
   ],
   "id": "589e48e19ee8f0f1",
   "outputs": [
    {
     "data": {
      "text/plain": [
       "                                          Book-Title           Book-Author  \\\n",
       "0                                Classical Mythology    Mark P. O. Morford   \n",
       "1                                       Clara Callan  Richard Bruce Wright   \n",
       "2                               Decision in Normandy          Carlo D'Este   \n",
       "3  Flu: The Story of the Great Influenza Pandemic...      Gina Bari Kolata   \n",
       "4                             The Mummies of Urumchi       E. J. W. Barber   \n",
       "\n",
       "   Year-Of-Publication                                        Image-URL-S  \\\n",
       "0                 2002  http://images.amazon.com/images/P/0195153448.0...   \n",
       "1                 2001  http://images.amazon.com/images/P/0002005018.0...   \n",
       "2                 1991  http://images.amazon.com/images/P/0060973129.0...   \n",
       "3                 1999  http://images.amazon.com/images/P/0374157065.0...   \n",
       "4                 1999  http://images.amazon.com/images/P/0393045218.0...   \n",
       "\n",
       "                                       Cleaned-Title  \\\n",
       "0                                classical mythology   \n",
       "1                                       clara callan   \n",
       "2                               decision in normandy   \n",
       "3  flu: the story of the great influenza pandemic...   \n",
       "4                             the mummies of urumchi   \n",
       "\n",
       "                                            Combined  \n",
       "0               classical mythology mark p o morford  \n",
       "1                  clara callan richard bruce wright  \n",
       "2                   decision in normandy carlo deste  \n",
       "3  flu the story of the great influenza pandemic ...  \n",
       "4                the mummies of urumchi e j w barber  "
      ],
      "text/html": [
       "<div>\n",
       "<style scoped>\n",
       "    .dataframe tbody tr th:only-of-type {\n",
       "        vertical-align: middle;\n",
       "    }\n",
       "\n",
       "    .dataframe tbody tr th {\n",
       "        vertical-align: top;\n",
       "    }\n",
       "\n",
       "    .dataframe thead th {\n",
       "        text-align: right;\n",
       "    }\n",
       "</style>\n",
       "<table border=\"1\" class=\"dataframe\">\n",
       "  <thead>\n",
       "    <tr style=\"text-align: right;\">\n",
       "      <th></th>\n",
       "      <th>Book-Title</th>\n",
       "      <th>Book-Author</th>\n",
       "      <th>Year-Of-Publication</th>\n",
       "      <th>Image-URL-S</th>\n",
       "      <th>Cleaned-Title</th>\n",
       "      <th>Combined</th>\n",
       "    </tr>\n",
       "  </thead>\n",
       "  <tbody>\n",
       "    <tr>\n",
       "      <th>0</th>\n",
       "      <td>Classical Mythology</td>\n",
       "      <td>Mark P. O. Morford</td>\n",
       "      <td>2002</td>\n",
       "      <td>http://images.amazon.com/images/P/0195153448.0...</td>\n",
       "      <td>classical mythology</td>\n",
       "      <td>classical mythology mark p o morford</td>\n",
       "    </tr>\n",
       "    <tr>\n",
       "      <th>1</th>\n",
       "      <td>Clara Callan</td>\n",
       "      <td>Richard Bruce Wright</td>\n",
       "      <td>2001</td>\n",
       "      <td>http://images.amazon.com/images/P/0002005018.0...</td>\n",
       "      <td>clara callan</td>\n",
       "      <td>clara callan richard bruce wright</td>\n",
       "    </tr>\n",
       "    <tr>\n",
       "      <th>2</th>\n",
       "      <td>Decision in Normandy</td>\n",
       "      <td>Carlo D'Este</td>\n",
       "      <td>1991</td>\n",
       "      <td>http://images.amazon.com/images/P/0060973129.0...</td>\n",
       "      <td>decision in normandy</td>\n",
       "      <td>decision in normandy carlo deste</td>\n",
       "    </tr>\n",
       "    <tr>\n",
       "      <th>3</th>\n",
       "      <td>Flu: The Story of the Great Influenza Pandemic...</td>\n",
       "      <td>Gina Bari Kolata</td>\n",
       "      <td>1999</td>\n",
       "      <td>http://images.amazon.com/images/P/0374157065.0...</td>\n",
       "      <td>flu: the story of the great influenza pandemic...</td>\n",
       "      <td>flu the story of the great influenza pandemic ...</td>\n",
       "    </tr>\n",
       "    <tr>\n",
       "      <th>4</th>\n",
       "      <td>The Mummies of Urumchi</td>\n",
       "      <td>E. J. W. Barber</td>\n",
       "      <td>1999</td>\n",
       "      <td>http://images.amazon.com/images/P/0393045218.0...</td>\n",
       "      <td>the mummies of urumchi</td>\n",
       "      <td>the mummies of urumchi e j w barber</td>\n",
       "    </tr>\n",
       "  </tbody>\n",
       "</table>\n",
       "</div>"
      ]
     },
     "execution_count": 70,
     "metadata": {},
     "output_type": "execute_result"
    }
   ],
   "execution_count": 70
  },
  {
   "metadata": {
    "ExecuteTime": {
     "end_time": "2024-11-14T00:15:03.611501Z",
     "start_time": "2024-11-14T00:15:01.306396Z"
    }
   },
   "cell_type": "code",
   "source": [
    "# Vectorization\n",
    "vectorizer = TfidfVectorizer()\n",
    "X = vectorizer.fit_transform(df['Combined'])"
   ],
   "id": "1bd227ef4c9ba513",
   "outputs": [],
   "execution_count": 71
  },
  {
   "metadata": {
    "ExecuteTime": {
     "end_time": "2024-11-14T00:15:03.653131Z",
     "start_time": "2024-11-14T00:15:03.643376Z"
    }
   },
   "cell_type": "code",
   "source": [
    "def get_top_n_recommendations(title, n):\n",
    "    title_cleaned = clean_title(title)\n",
    "    \n",
    "    matching_titles = df[df['Book-Title'].str.lower() == title_cleaned]\n",
    "    \n",
    "    if matching_titles.empty:\n",
    "        raise ValueError(f\"Title '{title}' not found in the dataset.\")\n",
    "    \n",
    "    # Get the index of the first matching title\n",
    "    title_index = matching_titles.index[0]\n",
    "    \n",
    "    # Get the TF-IDF vector for the given title\n",
    "    title_tfidf_vector = X[title_index]\n",
    "    \n",
    "    # Calculate cosine similarity between the title vector and all other book vectors\n",
    "    cosine_similarities = cosine_similarity(title_tfidf_vector, X).flatten()\n",
    "    \n",
    "    # Get indices of the top N most similar books \n",
    "    similar_indices = cosine_similarities.argsort()[-(n+2):-1][::-1]\n",
    "    \n",
    "    if 'Book-Title' not in df.columns or 'Book-Author' not in df.columns:\n",
    "        raise KeyError(\"Required columns 'Book-Title' and 'Book-Author' are missing from the DataFrame.\")\n",
    "    \n",
    "    # Fetch the top N book titles and authors based on similarity scores\n",
    "    top_n_titles_authors = df[['Book-Title', 'Book-Author']].iloc[similar_indices]\n",
    "    \n",
    "    # Format them as \"Title - Author\" and ensure it's a pandas Series before converting to list\n",
    "    top_n_titles_authors = top_n_titles_authors.apply(lambda row: f\"{row['Book-Title']} - {row['Book-Author']}\", axis=1)\n",
    "    \n",
    "    # Convert the Series to a list\n",
    "    top_n_titles_authors_list = top_n_titles_authors.tolist()\n",
    "    \n",
    "    # Remove duplicates and ensure we return exactly 'n' results\n",
    "    top_n_titles_authors_list = list(set(top_n_titles_authors_list))[:n]\n",
    "    \n",
    "    return top_n_titles_authors_list\n"
   ],
   "id": "7c9263d867691619",
   "outputs": [],
   "execution_count": 72
  },
  {
   "metadata": {
    "ExecuteTime": {
     "end_time": "2024-11-14T00:15:03.780424Z",
     "start_time": "2024-11-14T00:15:03.674484Z"
    }
   },
   "cell_type": "code",
   "source": [
    "random_number = random.randint(3, 8)\n",
    "\n",
    "get_top_n_recommendations('Classical Mythology', random_number)"
   ],
   "id": "d3cdf4d36f8a8199",
   "outputs": [
    {
     "data": {
      "text/plain": [
       "['The Penguin Dictionary of Classical Mythology (Reference Books) - Pierre Grimal',\n",
       " \"Mythology and You : Classical Mythology and its Relevance in Today's World - Donna Rosenberg\",\n",
       " \"Crowell's Handbook of Classical Mythology (A Crowell reference book) - Edward Tripp\",\n",
       " 'Dictionary of Mythology: Mainly Classical - Bergen Evans',\n",
       " 'Dracula (Classical Literature with Classical Music) - Brian Cox',\n",
       " 'The Dictionary of Classical Mythology - JOHN EDWARD ZIMMERMAN']"
      ]
     },
     "execution_count": 73,
     "metadata": {},
     "output_type": "execute_result"
    }
   ],
   "execution_count": 73
  },
  {
   "metadata": {
    "ExecuteTime": {
     "end_time": "2024-11-14T00:15:03.802018Z",
     "start_time": "2024-11-14T00:15:03.797498Z"
    }
   },
   "cell_type": "code",
   "source": "",
   "id": "5185dbda6dbc78b9",
   "outputs": [],
   "execution_count": null
  }
 ],
 "metadata": {
  "kernelspec": {
   "display_name": "Python 3",
   "language": "python",
   "name": "python3"
  },
  "language_info": {
   "codemirror_mode": {
    "name": "ipython",
    "version": 2
   },
   "file_extension": ".py",
   "mimetype": "text/x-python",
   "name": "python",
   "nbconvert_exporter": "python",
   "pygments_lexer": "ipython2",
   "version": "2.7.6"
  }
 },
 "nbformat": 4,
 "nbformat_minor": 5
}
